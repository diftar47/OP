{
  "cells": [
    {
      "cell_type": "markdown",
      "id": "37d425eb",
      "metadata": {
        "id": "37d425eb"
      },
      "source": [
        "# Практична робота №5\n",
        "\n",
        "# Введення в структури даних\n",
        "\n"
      ]
    },
    {
      "cell_type": "markdown",
      "id": "8e1aff42",
      "metadata": {
        "id": "8e1aff42"
      },
      "source": [
        "## Завдання 1\n",
        "Реалізуйте алгоритм, який знаходить та виводить всі числа одновимірного масиву цілих чисел, які кратні 3. Відкоментуйте найважливіши блоки алгоритму\n",
        "\n",
        "\n"
      ]
    },
    {
      "cell_type": "code",
      "execution_count": 1,
      "id": "599a2c7f",
      "metadata": {
        "id": "599a2c7f",
        "colab": {
          "base_uri": "https://localhost:8080/"
        },
        "outputId": "2a0ee615-f387-46b3-a4cf-d27d0f183130"
      },
      "outputs": [
        {
          "output_type": "stream",
          "name": "stdout",
          "text": [
            "Числа, кратні 3:\n",
            "6\n",
            "9\n",
            "12\n",
            "18\n",
            "3\n",
            "24\n",
            "21\n"
          ]
        }
      ],
      "source": [
        "def find_multiples_of_three(arr):\n",
        "    print(\"Числа, кратні 3:\")\n",
        "\n",
        "    # Перебір кожного елемента масиву\n",
        "    for num in arr:\n",
        "        # Перевірка, чи число ділиться на 3 без остачі\n",
        "        if num % 3 == 0:\n",
        "            print(num)  # Виведення числа, яке задовольняє умову\n",
        "\n",
        "if __name__ == \"__main__\":\n",
        "    test_array = [1, 6, 9, 12, 5, 18, 3, 24, 21, 10]\n",
        "\n",
        "    find_multiples_of_three(test_array)"
      ]
    },
    {
      "cell_type": "markdown",
      "id": "0e526f6d",
      "metadata": {
        "id": "0e526f6d"
      },
      "source": [
        "## Завдання 2\n",
        "Реалізуйте алгоритм, який знаходить суму елементів кожного зі стовбців двовимірного  масиву цілих чисел. Відкоментуйте найважливіши блоки алгоритму\n"
      ]
    },
    {
      "cell_type": "code",
      "execution_count": 4,
      "id": "d59fa059",
      "metadata": {
        "id": "d59fa059",
        "colab": {
          "base_uri": "https://localhost:8080/"
        },
        "outputId": "2d282ed7-33d3-4915-b654-30f372d6caa1"
      },
      "outputs": [
        {
          "output_type": "stream",
          "name": "stdout",
          "text": [
            "Початкова матриця:\n",
            "[1, 2, 3, 4]\n",
            "[5, 6, 7, 8]\n",
            "[9, 10, 11, 12]\n",
            "\n",
            "Сума елементів кожного стовпця:\n",
            "Стовпець 1: 15\n",
            "Стовпець 2: 18\n",
            "Стовпець 3: 21\n",
            "Стовпець 4: 24\n"
          ]
        }
      ],
      "source": [
        "def sum_of_columns(matrix):\n",
        "    # Перевірка, чи матриця не порожня\n",
        "    if not matrix or not matrix[0]:\n",
        "        print(\"Матриця порожня\")\n",
        "        return\n",
        "\n",
        "    # Визначення кількості рядків і стовпців\n",
        "    rows = len(matrix)\n",
        "    cols = len(matrix[0])\n",
        "\n",
        "    # Ініціалізація списку для зберігання сум стовпців\n",
        "    column_sums = [0] * cols\n",
        "\n",
        "    # Основний алгоритм: підрахунок сум по стовпцях\n",
        "    for j in range(cols):          # Прохід по кожному стовпцю\n",
        "        for i in range(rows):      # Прохід по кожному рядку в поточному стовпці\n",
        "            column_sums[j] += matrix[i][j]\n",
        "\n",
        "    # Виведення результатів\n",
        "    print(\"Сума елементів кожного стовпця:\")\n",
        "    for j in range(cols):\n",
        "        print(f\"Стовпець {j + 1}: {column_sums[j]}\")\n",
        "\n",
        "# Код виконання має бути ПОЗА функцією, на тому ж рівні відступу що і функція\n",
        "if __name__ == \"__main__\":\n",
        "    # Тестова матриця 3x4\n",
        "    test_matrix = [\n",
        "        [1, 2, 3, 4],\n",
        "        [5, 6, 7, 8],\n",
        "        [9, 10, 11, 12]\n",
        "    ]\n",
        "\n",
        "    print(\"Початкова матриця:\")\n",
        "    for row in test_matrix:\n",
        "        print(row)\n",
        "    print()\n",
        "\n",
        "    # Виклик функції\n",
        "    sum_of_columns(test_matrix)"
      ]
    },
    {
      "cell_type": "markdown",
      "id": "582a690a",
      "metadata": {
        "id": "582a690a"
      },
      "source": [
        "## Завдання №3\n",
        "\n",
        "Реалізуйте алгоритм, який виводить реверсний масив за допомогою структури Стек\n",
        "Вхідний масив: 2 3 4 5 6   Вихідний массив:  6 5 4 3 2\n",
        "Відкоментуйте найважливіши блоки алгоритму\n"
      ]
    },
    {
      "cell_type": "code",
      "execution_count": 5,
      "id": "f5caece0",
      "metadata": {
        "id": "f5caece0",
        "colab": {
          "base_uri": "https://localhost:8080/"
        },
        "outputId": "86d3b30b-a7b4-4ff0-ccc3-7d735f97270e"
      },
      "outputs": [
        {
          "output_type": "stream",
          "name": "stdout",
          "text": [
            "Початковий масив: [2, 3, 4, 5, 6]\n",
            "Реверсний масив: [6, 5, 4, 3, 2]\n"
          ]
        }
      ],
      "source": [
        "def reverse_array(arr):\n",
        "    # Створення порожнього стеку (використовуємо список)\n",
        "    stack = []\n",
        "\n",
        "    print(\"Початковий масив:\", arr)\n",
        "\n",
        "    # Етап 1: Заповнення стеку - додаємо всі елементи масиву в стек\n",
        "    for element in arr:\n",
        "        stack.append(element)  # Операція push - додаємо елемент на вершину стеку\n",
        "\n",
        "    # Етап 2: Створення реверсного масиву - вилучаємо елементи зі стеку\n",
        "    reversed_arr = []\n",
        "    while stack:  # Поки стек не порожній\n",
        "        element = stack.pop()  # Операція pop - беремо елемент з вершини стеку\n",
        "        reversed_arr.append(element)\n",
        "\n",
        "    print(\"Реверсний масив:\", reversed_arr)\n",
        "    return reversed_arr\n",
        "\n",
        "# Приклад використання\n",
        "if __name__ == \"__main__\":\n",
        "    # Вхідний масив\n",
        "    input_array = [2, 3, 4, 5, 6]\n",
        "\n",
        "    # Виклик функції\n",
        "    reverse_array(input_array)"
      ]
    },
    {
      "cell_type": "markdown",
      "id": "77cca89d",
      "metadata": {
        "id": "77cca89d"
      },
      "source": [
        "## Завдання 4\n",
        "Нижче представлені функції для пошуку в ширину та глибину на графі. Спробуйте виконати пошук на наведеному графі:\n",
        "\n",
        "\n",
        "\n"
      ]
    },
    {
      "cell_type": "code",
      "execution_count": null,
      "id": "dfff7a0f",
      "metadata": {
        "id": "dfff7a0f",
        "outputId": "f39f04ac-cbe8-4436-9180-5944ec7238f2"
      },
      "outputs": [
        {
          "name": "stdout",
          "output_type": "stream",
          "text": [
            "DFS (через стек) шлях від A до F: ['A', 'C', 'F']\n",
            "BFS (через чергу) шлях від A до F: ['A', 'C', 'F']\n"
          ]
        }
      ],
      "source": [
        "graph = {\n",
        "    \"A\": [\"B\", \"C\"],\n",
        "    \"B\": [\"D\", \"E\"],\n",
        "    \"C\": [\"F\"],\n",
        "    \"D\": [],\n",
        "    \"E\": [\"F\"],\n",
        "    \"F\": []\n",
        "}\n",
        "\n",
        "def dfs_stack(graph, start, goal):\n",
        "    stack = [(start, [start])]  # стек: вершина + шлях до неї\n",
        "    visited = set()\n",
        "\n",
        "    while stack:\n",
        "        node, path = stack.pop()  # беремо останню вершину\n",
        "        if node == goal:\n",
        "            return path\n",
        "        if node not in visited:\n",
        "            visited.add(node)\n",
        "            for neighbor in graph[node]:\n",
        "                stack.append((neighbor, path + [neighbor]))\n",
        "    return None\n",
        "\n",
        "path_dfs = dfs_stack(graph, \"A\", \"F\")\n",
        "print(\"DFS (через стек) шлях від A до F:\", path_dfs)\n",
        "\n",
        "def bfs_queue(graph, start, goal):\n",
        "    queue = [(start, [start])]  # черга: вершина + шлях до неї\n",
        "    visited = set()\n",
        "\n",
        "    while queue:\n",
        "        node, path = queue.pop(0)  # беремо першу вершину\n",
        "        if node == goal:\n",
        "            return path\n",
        "        if node not in visited:\n",
        "            visited.add(node)\n",
        "            for neighbor in graph[node]:\n",
        "                queue.append((neighbor, path + [neighbor]))\n",
        "    return None\n",
        "\n",
        "path_bfs = bfs_queue(graph, \"A\", \"F\")\n",
        "print(\"BFS (через чергу) шлях від A до F:\", path_bfs)"
      ]
    },
    {
      "cell_type": "markdown",
      "id": "1a72b6e7",
      "metadata": {
        "id": "1a72b6e7"
      },
      "source": [
        "**Самостійне завдання** Виконайте такий пошук для свого варіанту графу, який представлений матрицею суміжності:\n",
        "    Варіант 1\n",
        "\n",
        "\n",
        "```\n",
        "0 1 0 0 1  \n",
        "1 0 1 0 0  \n",
        "0 1 0 1 0  \n",
        "0 0 1 0 1  \n",
        "1 0 0 1 0  \n",
        "\n",
        "```\n",
        "\n",
        "\n",
        "\n",
        "\n",
        "Варіант 2  \n",
        "```\n",
        "0 1 1 0 0  \n",
        "1 0 0 1 0  \n",
        "1 0 0 0 1  \n",
        "0 1 0 0 1  \n",
        "0 0 1 1 0  \n",
        "```\n",
        "Варіант 3\n",
        "```\n",
        "0 1 0 1 0  \n",
        "1 0 1 0 0  \n",
        "0 1 0 1 1  \n",
        "1 0 1 0 0  \n",
        "0 0 1 0 0  \n",
        "```\n",
        "Варіант 4\n",
        "```\n",
        "0 1 1 0 1  \n",
        "1 0 0 1 0  \n",
        "1 0 0 1 1  \n",
        "0 1 1 0 0  \n",
        "1 0 1 0 0  \n",
        "```\n",
        "Варіант 5  \n",
        "```\n",
        "0 0 1 1 0  \n",
        "0 0 1 0 1  \n",
        "1 1 0 0 0  \n",
        "1 0 0 0 1  \n",
        "0 1 0 1 0  \n",
        "```\n",
        "Варіант 6  \n",
        "```\n",
        "0 1 0 0 1   \n",
        "1 0 1 0 0  \n",
        "0 1 0 1 0  \n",
        "0 0 1 0 1  \n",
        "1 0 0 1 0  \n",
        "```\n",
        "Варіант 7  \n",
        "```\n",
        "0 0 1 1 1  \n",
        "0 0 1 0 0  \n",
        "1 1 0 0 1  \n",
        "1 0 0 0 1  \n",
        "1 0 1 1 0  \n",
        "```\n",
        "Варіант 8\n",
        "```\n",
        "0 1 0 1 0  \n",
        "1 0 1 0 1  \n",
        "0 1 0 1 0  \n",
        "1 0 1 0 1  \n",
        "0 1 0 1 0  \n",
        "```\n",
        "Варіант 9\n",
        "```\n",
        "0 1 1 0 0  \n",
        "1 0 0 1 0  \n",
        "1 0 0 0 1  \n",
        "0 1 0 0 1  \n",
        "0 0 1 1 0  \n",
        "```\n",
        "Варіант 10  \n",
        "```\n",
        "0 1 0 1 1  \n",
        "1 0 1 0 0  \n",
        "0 1 0 1 0  \n",
        "1 0 1 0 1  \n",
        "1 0 0 1 0  \n",
        "```"
      ]
    },
    {
      "cell_type": "code",
      "execution_count": 10,
      "id": "c83fcdd3",
      "metadata": {
        "id": "c83fcdd3",
        "colab": {
          "base_uri": "https://localhost:8080/"
        },
        "outputId": "a5212456-bd71-438b-98c0-df57a8f4fe79"
      },
      "outputs": [
        {
          "output_type": "stream",
          "name": "stdout",
          "text": [
            "Список суміжності:\n",
            " A: C, D, E\n",
            " B: C\n",
            " C: A, B, E\n",
            " D: A, E\n",
            " E: A, C, D\n",
            "\n",
            "Результати пошуку:\n",
            " DFS (через стек) шлях від A до E: ['A', 'E']\n",
            " BFS (через чергу) шлях від A до E: ['A', 'E']\n"
          ]
        }
      ],
      "source": [
        "def build_graph_from_matrix(matrix, labels):\n",
        "    return { labels[i]: [labels[j] for j,val in enumerate(row) if val == 1]\n",
        "             for i, row in enumerate(matrix) }\n",
        "\n",
        "def dfs_stack(graph, start, goal):\n",
        "    stack = [(start, [start])]  # стек: (вершина, шлях)\n",
        "    visited = set()\n",
        "\n",
        "    while stack:\n",
        "        node, path = stack.pop()\n",
        "        if node == goal:\n",
        "            return path\n",
        "        if node not in visited:\n",
        "            visited.add(node)\n",
        "            # додаємо сусідів у стек у порядку, як у списку суміжності\n",
        "            for neighbor in graph[node]:\n",
        "                stack.append((neighbor, path + [neighbor]))\n",
        "    return None\n",
        "\n",
        "def bfs_queue(graph, start, goal):\n",
        "    queue = [(start, [start])]  # черга: (вершина, шлях)\n",
        "    visited = set()\n",
        "\n",
        "    while queue:\n",
        "        node, path = queue.pop(0)\n",
        "        if node == goal:\n",
        "            return path\n",
        "        if node not in visited:\n",
        "            visited.add(node)\n",
        "            for neighbor in graph[node]:\n",
        "                queue.append((neighbor, path + [neighbor]))\n",
        "    return None\n",
        "\n",
        "if __name__ == \"__main__\":\n",
        "    # матриця варіанта 7\n",
        "    matrix = [\n",
        "        [0,0,1,1,1],\n",
        "        [0,0,1,0,0],\n",
        "        [1,1,0,0,1],\n",
        "        [1,0,0,0,1],\n",
        "        [1,0,1,1,0],\n",
        "    ]\n",
        "    labels = [\"A\",\"B\",\"C\",\"D\",\"E\"]\n",
        "\n",
        "    graph = build_graph_from_matrix(matrix, labels)\n",
        "\n",
        "    print(\"Список суміжності:\")\n",
        "    for v in labels:\n",
        "        print(f\" {v}: {', '.join(graph[v]) if graph[v] else '(немає сусідів)'}\")\n",
        "\n",
        "    start = \"A\"\n",
        "    goal = \"E\"\n",
        "\n",
        "    path_dfs = dfs_stack(graph, start, goal)\n",
        "    path_bfs = bfs_queue(graph, start, goal)\n",
        "\n",
        "    print(\"\\nРезультати пошуку:\")\n",
        "    print(f\" DFS (через стек) шлях від {start} до {goal}: {path_dfs}\")\n",
        "    print(f\" BFS (через чергу) шлях від {start} до {goal}: {path_bfs}\")\n"
      ]
    },
    {
      "cell_type": "markdown",
      "id": "ebcbbf84",
      "metadata": {
        "id": "ebcbbf84"
      },
      "source": [
        "## Контрольні запитання\n",
        "\n",
        "1.У чому відмінність між статичними, напівстатичними та динамічними структурами даних?\n",
        "- Статичні: Фіксований розмір, виділяється під час компіляції (масиви фіксованої довжини)\n",
        "\n",
        "- Напівстатичні: Розмір може змінюватись, але рідко і з великими витратами (динамічні масиви)\n",
        "\n",
        "- Динамічні: Розмір змінюється легко під час виконання, елементи розподілені в пам'яті (зв'язні списки, дерева)\n",
        "\n",
        "2.Наведіть приклади, коли доцільно використовувати стек або чергу.\n",
        "- Стек: Стек викликів функцій, механізм undo/redo, обходження графів у глибину\n",
        "\n",
        "- Черга: Обробка завдань у порядку надходження, буферизація даних, пошук у ширину в графах\n",
        "3.Поясніть, що таке хеш-таблиця і як працює хеш-функція.\n",
        "- Хеш-таблиця: Структура даних для зберігання пар ключ-значення з швидким доступом\n",
        "\n",
        "- Хеш-функція: Перетворює ключ на індекс у масиві, має бути швидкою та мінімізувати колізії\n",
        "\n",
        "4.Для яких задач використовують графи?\n",
        "Соціальні мережі (зв'язки між людьми)\n",
        "\n",
        "- Маршрутизація (пошук шляху в навігації)\n",
        "\n",
        "- Мережева топологія\n",
        "\n",
        "- Залежності між задачами\n",
        "\n",
        "- Рекомендаційні системи"
      ]
    }
  ],
  "metadata": {
    "celltoolbar": "Raw Cell Format",
    "kernelspec": {
      "display_name": "Python 3 (ipykernel)",
      "language": "python",
      "name": "python3"
    },
    "language_info": {
      "codemirror_mode": {
        "name": "ipython",
        "version": 3
      },
      "file_extension": ".py",
      "mimetype": "text/x-python",
      "name": "python",
      "nbconvert_exporter": "python",
      "pygments_lexer": "ipython3",
      "version": "3.11.5"
    },
    "colab": {
      "provenance": []
    }
  },
  "nbformat": 4,
  "nbformat_minor": 5
}